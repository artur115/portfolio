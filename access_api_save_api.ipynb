{
 "cells": [
  {
   "cell_type": "code",
   "execution_count": 2,
   "id": "7d6fa61a",
   "metadata": {},
   "outputs": [
    {
     "name": "stdout",
     "output_type": "stream",
     "text": [
      "1\n",
      "2\n",
      "3\n",
      "4\n",
      "5\n",
      "6\n",
      "7\n",
      "   id               name           type\n",
      "0   1      Earth (C-137)         Planet\n",
      "1   2           Abadango        Cluster\n",
      "2   3   Citadel of Ricks  Space station\n",
      "3   4  Worldender's lair         Planet\n",
      "4   5       Anatomy Park     Microverse \n",
      "       id                       name       type\n",
      "121  122               Avian Planet     Planet\n",
      "122  123  Normal Size Bug Dimension  Dimension\n",
      "123  124                 Slartivart     Planet\n",
      "124  125  Rick and Two Crows Planet     Planet\n",
      "125  126            Rick's Memories     Memory\n"
     ]
    }
   ],
   "source": [
    "import requests\n",
    "import pandas as pd\n",
    "base_url = 'https://rickandmortyapi.com/api/'\n",
    "\n",
    "endpoint = 'location'\n",
    "def main_request(base_url,endpoint, x):\n",
    "    r = requests.get(base_url + endpoint + f'?page={x}')\n",
    "    return r.json()\n",
    "\n",
    "def get_pages(response):\n",
    "    return response['info']['pages']\n",
    "\n",
    "def parse_json(response):\n",
    "    charlist= []\n",
    "    for item in response['results']:\n",
    "        char = {\n",
    "            'id':item['id'],\n",
    "            'name':item['name'] ,\n",
    "            'type' :item['type'],\n",
    "        }\n",
    "        \n",
    "        charlist.append(char)\n",
    "    return charlist\n",
    "   \n",
    "mainlist = []\n",
    "data = main_request(base_url,endpoint, 1)\n",
    "for x in range(1,get_pages(data)+1):\n",
    "    print(x)\n",
    "    mainlist.extend(parse_json(main_request(base_url,endpoint, x)))\n",
    "    \n",
    "df = pd.DataFrame(mainlist)\n",
    "\n",
    "# df.to_csv('rick_and_morty.csv', index=False)\n",
    "print(df.head(),'\\n', df.tail())"
   ]
  }
 ],
 "metadata": {
  "kernelspec": {
   "display_name": "Python 3 (ipykernel)",
   "language": "python",
   "name": "python3"
  },
  "language_info": {
   "codemirror_mode": {
    "name": "ipython",
    "version": 3
   },
   "file_extension": ".py",
   "mimetype": "text/x-python",
   "name": "python",
   "nbconvert_exporter": "python",
   "pygments_lexer": "ipython3",
   "version": "3.9.7"
  }
 },
 "nbformat": 4,
 "nbformat_minor": 5
}
